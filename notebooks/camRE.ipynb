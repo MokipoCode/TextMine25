{
 "cells": [
  {
   "cell_type": "code",
   "execution_count": 1,
   "metadata": {},
   "outputs": [],
   "source": [
    "import pandas as pd\n",
    "import json\n",
    "from sklearn.model_selection import train_test_split\n",
    "from sklearn.preprocessing import LabelEncoder\n",
    "from sklearn.metrics import classification_report, confusion_matrix, precision_recall_fscore_support, ConfusionMatrixDisplay, accuracy_score\n",
    "import torch\n",
    "from torch.utils.data import Dataset, DataLoader\n",
    "from transformers import CamembertTokenizer, CamembertForSequenceClassification, Trainer, TrainingArguments, DataCollatorWithPadding\n",
    "import numpy as np\n",
    "import matplotlib.pyplot as plt\n",
    "import seaborn as sns\n",
    "from collections import Counter"
   ]
  },
  {
   "cell_type": "code",
   "execution_count": 2,
   "metadata": {},
   "outputs": [
    {
     "data": {
      "text/plain": [
       "'NVIDIA GeForce GTX 1080'"
      ]
     },
     "execution_count": 2,
     "metadata": {},
     "output_type": "execute_result"
    }
   ],
   "source": [
    "torch.cuda.get_device_name(0)"
   ]
  },
  {
   "cell_type": "code",
   "execution_count": 3,
   "metadata": {},
   "outputs": [
    {
     "data": {
      "text/html": [
       "<div>\n",
       "<style scoped>\n",
       "    .dataframe tbody tr th:only-of-type {\n",
       "        vertical-align: middle;\n",
       "    }\n",
       "\n",
       "    .dataframe tbody tr th {\n",
       "        vertical-align: top;\n",
       "    }\n",
       "\n",
       "    .dataframe thead th {\n",
       "        text-align: right;\n",
       "    }\n",
       "</style>\n",
       "<table border=\"1\" class=\"dataframe\">\n",
       "  <thead>\n",
       "    <tr style=\"text-align: right;\">\n",
       "      <th></th>\n",
       "      <th>text</th>\n",
       "      <th>entities</th>\n",
       "      <th>relations</th>\n",
       "    </tr>\n",
       "    <tr>\n",
       "      <th>id</th>\n",
       "      <th></th>\n",
       "      <th></th>\n",
       "      <th></th>\n",
       "    </tr>\n",
       "  </thead>\n",
       "  <tbody>\n",
       "    <tr>\n",
       "      <th>181</th>\n",
       "      <td>Anam Destresse, président de l'ONG \"Ma passion...</td>\n",
       "      <td>[{'id': 0, 'mentions': [{'value': 'accident', ...</td>\n",
       "      <td>[[0, STARTED_IN, 9], [7, IS_LOCATED_IN, 9], [5...</td>\n",
       "    </tr>\n",
       "    <tr>\n",
       "      <th>31669</th>\n",
       "      <td>À Paris, le 8 avril 2022, l'usine de déodorant...</td>\n",
       "      <td>[{'id': 0, 'mentions': [{'value': 'explosé', '...</td>\n",
       "      <td>[[9, IS_LOCATED_IN, 8], [11, OPERATES_IN, 8], ...</td>\n",
       "    </tr>\n",
       "    <tr>\n",
       "      <th>51470</th>\n",
       "      <td>En Espagne, dans une région agricole, une cont...</td>\n",
       "      <td>[{'id': 0, 'mentions': [{'value': 'contaminati...</td>\n",
       "      <td>[[7, IS_PART_OF, 8], [9, OPERATES_IN, 1], [0, ...</td>\n",
       "    </tr>\n",
       "    <tr>\n",
       "      <th>51332</th>\n",
       "      <td>Un important incendie a fait des ravages dans ...</td>\n",
       "      <td>[{'id': 0, 'mentions': [{'value': 'incendie', ...</td>\n",
       "      <td>[[12, IS_IN_CONTACT_WITH, 5], [0, IS_LOCATED_I...</td>\n",
       "    </tr>\n",
       "    <tr>\n",
       "      <th>1131</th>\n",
       "      <td>« Je coule » : onze heures après avoir envoyé ...</td>\n",
       "      <td>[{'id': 0, 'mentions': [{'value': 'renversé', ...</td>\n",
       "      <td>[[9, IS_LOCATED_IN, 2], [0, START_DATE, 17], [...</td>\n",
       "    </tr>\n",
       "  </tbody>\n",
       "</table>\n",
       "</div>"
      ],
      "text/plain": [
       "                                                    text  \\\n",
       "id                                                         \n",
       "181    Anam Destresse, président de l'ONG \"Ma passion...   \n",
       "31669  À Paris, le 8 avril 2022, l'usine de déodorant...   \n",
       "51470  En Espagne, dans une région agricole, une cont...   \n",
       "51332  Un important incendie a fait des ravages dans ...   \n",
       "1131   « Je coule » : onze heures après avoir envoyé ...   \n",
       "\n",
       "                                                entities  \\\n",
       "id                                                         \n",
       "181    [{'id': 0, 'mentions': [{'value': 'accident', ...   \n",
       "31669  [{'id': 0, 'mentions': [{'value': 'explosé', '...   \n",
       "51470  [{'id': 0, 'mentions': [{'value': 'contaminati...   \n",
       "51332  [{'id': 0, 'mentions': [{'value': 'incendie', ...   \n",
       "1131   [{'id': 0, 'mentions': [{'value': 'renversé', ...   \n",
       "\n",
       "                                               relations  \n",
       "id                                                        \n",
       "181    [[0, STARTED_IN, 9], [7, IS_LOCATED_IN, 9], [5...  \n",
       "31669  [[9, IS_LOCATED_IN, 8], [11, OPERATES_IN, 8], ...  \n",
       "51470  [[7, IS_PART_OF, 8], [9, OPERATES_IN, 1], [0, ...  \n",
       "51332  [[12, IS_IN_CONTACT_WITH, 5], [0, IS_LOCATED_I...  \n",
       "1131   [[9, IS_LOCATED_IN, 2], [0, START_DATE, 17], [...  "
      ]
     },
     "execution_count": 3,
     "metadata": {},
     "output_type": "execute_result"
    }
   ],
   "source": [
    "# Load the data\n",
    "train_df = pd.read_csv(\"../data/train.csv\")\n",
    "train_df = train_df.set_index(\"id\")\n",
    "train_df.entities = train_df.entities.apply(json.loads)  # Parse entities\n",
    "train_df.relations = train_df.relations.apply(json.loads)  # Parse relations\n",
    "\n",
    "# Display the first few rows\n",
    "train_df.head()"
   ]
  },
  {
   "cell_type": "code",
   "execution_count": 4,
   "metadata": {},
   "outputs": [
    {
     "data": {
      "text/plain": [
       "['IS_LOCATED_IN',\n",
       " 'HAS_CONTROL_OVER',\n",
       " 'IS_IN_CONTACT_WITH',\n",
       " 'OPERATES_IN',\n",
       " 'STARTED_IN',\n",
       " 'IS_AT_ODDS_WITH',\n",
       " 'IS_PART_OF',\n",
       " 'START_DATE',\n",
       " 'GENDER_MALE',\n",
       " 'HAS_CATEGORY']"
      ]
     },
     "execution_count": 4,
     "metadata": {},
     "output_type": "execute_result"
    }
   ],
   "source": [
    "# 1. Get top 10 relation labels\n",
    "all_relations = [rel[1] for row in train_df['relations'] for rel in row]\n",
    "top_10_relations = [rel for rel, _ in Counter(all_relations).most_common(10)]\n",
    "top_10_relations"
   ]
  },
  {
   "cell_type": "code",
   "execution_count": 5,
   "metadata": {},
   "outputs": [
    {
     "data": {
      "text/plain": [
       "10"
      ]
     },
     "execution_count": 5,
     "metadata": {},
     "output_type": "execute_result"
    }
   ],
   "source": [
    "len(top_10_relations)"
   ]
  },
  {
   "cell_type": "code",
   "execution_count": 6,
   "metadata": {},
   "outputs": [],
   "source": [
    "# 3. Encode labels\n",
    "le = LabelEncoder()\n",
    "df_processed = pd.DataFrame()\n",
    "df_processed['label'] = le.fit_transform(top_10_relations)"
   ]
  },
  {
   "cell_type": "markdown",
   "metadata": {},
   "source": [
    "# 1 - Preprocess"
   ]
  },
  {
   "cell_type": "code",
   "execution_count": null,
   "metadata": {},
   "outputs": [],
   "source": [
    "def prepare_dataset(df, relation_types, max_seq_length=300, context_margin=25):\n",
    "    tokenizer = CamembertTokenizer.from_pretrained(\"camembert-base\")\n",
    "    data = []\n",
    "    \n",
    "    for _, row in df.iterrows():\n",
    "        text = row[\"text\"]\n",
    "        entities = {e[\"id\"]: e for e in row[\"entities\"]}\n",
    "        \n",
    "        for rel in row[\"relations\"]:\n",
    "            e1_id, rel_type, e2_id = rel\n",
    "            if rel_type not in relation_types:\n",
    "                continue\n",
    "\n",
    "            # Find best mention pair (closest in text)\n",
    "            best_pair = find_closest_mentions(\n",
    "                entities[e1_id][\"mentions\"], \n",
    "                entities[e2_id][\"mentions\"]\n",
    "            )\n",
    "            \n",
    "            if not best_pair:\n",
    "                continue\n",
    "\n",
    "            # Extract focused text window\n",
    "            window_text, e1_pos, e2_pos = create_entity_window(\n",
    "                text, \n",
    "                best_pair[0], \n",
    "                best_pair[1], \n",
    "                context_margin\n",
    "            )\n",
    "            \n",
    "            # Mark only the target entities\n",
    "            marked_text = (\n",
    "                window_text[:e1_pos[0]] + \n",
    "                f\"[E{e1_id}]{best_pair[0]['value']}[/E{e1_id}]\" +\n",
    "                window_text[e1_pos[1]:e2_pos[0]] + \n",
    "                f\"[E{e2_id}]{best_pair[1]['value']}[/E{e2_id}]\" +\n",
    "                window_text[e2_pos[1]:]\n",
    "            )\n",
    "            \n",
    "            # Tokenize with length control\n",
    "            inputs = tokenizer(\n",
    "                marked_text,\n",
    "                max_length=max_seq_length,\n",
    "                truncation=True,\n",
    "                padding=\"max_length\"\n",
    "            )\n",
    "            \n",
    "            data.append({\n",
    "                \"text\": tokenizer.decode(inputs[\"input_ids\"], skip_special_tokens=True),\n",
    "                \"label\": relation_types.index(rel_type)\n",
    "            })\n",
    "            \n",
    "    return data\n",
    "\n",
    "def find_closest_mentions(mentions1, mentions2):\n",
    "    \"\"\"Find closest mention pair between two entities\"\"\"\n",
    "    min_distance = float('inf')\n",
    "    best_pair = None\n",
    "    \n",
    "    for m1 in mentions1:\n",
    "        for m2 in mentions2:\n",
    "            distance = abs(m1[\"start\"] - m2[\"start\"])\n",
    "            if distance < min_distance:\n",
    "                min_distance = distance\n",
    "                best_pair = (m1, m2)\n",
    "    \n",
    "    return best_pair\n",
    "\n",
    "def create_entity_window(text, mention1, mention2, margin):\n",
    "    \"\"\"Create text window containing both mentions with context margin\"\"\"\n",
    "    start = min(mention1[\"start\"], mention2[\"start\"]) - margin\n",
    "    end = max(mention1[\"end\"], mention2[\"end\"]) + margin\n",
    "    \n",
    "    # Adjust window boundaries\n",
    "    start = max(0, start)\n",
    "    end = min(len(text), end)\n",
    "    \n",
    "    # Calculate relative positions\n",
    "    window_text = text[start:end]\n",
    "    return (\n",
    "        window_text,\n",
    "        (mention1[\"start\"] - start, mention1[\"end\"] - start),\n",
    "        (mention2[\"start\"] - start, mention2[\"end\"] - start)\n",
    "    )\n",
    "\n",
    "dataset = prepare_dataset(train_df, top_10_relations)\n",
    "train_data, val_data = train_test_split(dataset, test_size=0.1, random_state=42)"
   ]
  },
  {
   "cell_type": "code",
   "execution_count": null,
   "metadata": {},
   "outputs": [
    {
     "data": {
      "text/plain": [
       "{'text': 'arrivée sur place et les [E12]secouristes[/E12] ont déposé la [E6]victime[/E6] sur une civière. Après l',\n",
       " 'label': 2}"
      ]
     },
     "execution_count": 9,
     "metadata": {},
     "output_type": "execute_result"
    }
   ],
   "source": [
    "train_data[0]"
   ]
  },
  {
   "cell_type": "code",
   "execution_count": null,
   "metadata": {},
   "outputs": [],
   "source": [
    "tokenizer = CamembertTokenizer.from_pretrained(\"camembert-base\")\n",
    "\n",
    "# Custom Dataset Class\n",
    "class RelationDataset(Dataset):\n",
    "    def __init__(self, data, tokenizer, max_length=300):\n",
    "        self.data = data\n",
    "        self.tokenizer = tokenizer\n",
    "        self.max_length = max_length\n",
    "\n",
    "    def __len__(self):\n",
    "        return len(self.data)\n",
    "\n",
    "    def __getitem__(self, idx):\n",
    "        item = self.data[idx]\n",
    "        encoding = self.tokenizer(\n",
    "            item[\"text\"],\n",
    "            truncation=True,\n",
    "            max_length=self.max_length,\n",
    "            return_attention_mask=True,\n",
    "        )\n",
    "        return {\n",
    "            \"input_ids\": encoding[\"input_ids\"],\n",
    "            \"attention_mask\": encoding[\"attention_mask\"],\n",
    "            \"labels\": item[\"label\"],\n",
    "        }\n",
    "\n",
    "train_dataset = RelationDataset(train_data, tokenizer)\n",
    "val_dataset = RelationDataset(val_data, tokenizer)"
   ]
  },
  {
   "cell_type": "code",
   "execution_count": 11,
   "metadata": {},
   "outputs": [],
   "source": [
    "# Data collator for dynamic padding\n",
    "data_collator = DataCollatorWithPadding(tokenizer=tokenizer)"
   ]
  },
  {
   "cell_type": "markdown",
   "metadata": {},
   "source": [
    "# 2 - Train"
   ]
  },
  {
   "cell_type": "code",
   "execution_count": null,
   "metadata": {},
   "outputs": [
    {
     "name": "stderr",
     "output_type": "stream",
     "text": [
      "Some weights of CamembertForSequenceClassification were not initialized from the model checkpoint at camembert-base and are newly initialized: ['classifier.dense.bias', 'classifier.dense.weight', 'classifier.out_proj.bias', 'classifier.out_proj.weight']\n",
      "You should probably TRAIN this model on a down-stream task to be able to use it for predictions and inference.\n"
     ]
    }
   ],
   "source": [
    "model = CamembertForSequenceClassification.from_pretrained(\"camembert-base\",num_labels=len(top_10_relations))"
   ]
  },
  {
   "cell_type": "code",
   "execution_count": null,
   "metadata": {},
   "outputs": [],
   "source": [
    "def compute_metrics(eval_pred):\n",
    "    logits, labels = eval_pred\n",
    "    predictions = logits.argmax(axis=-1)\n",
    "    \n",
    "    accuracy = accuracy_score(labels, predictions)\n",
    "    \n",
    "    precision_macro, recall_macro, f1_macro, _ = precision_recall_fscore_support(labels, predictions, average='macro', zero_division=0)\n",
    "    \n",
    "    precision_per_class, recall_per_class, f1_per_class, _ = precision_recall_fscore_support(labels, predictions, average=None, zero_division=0)\n",
    "    \n",
    "    return {\n",
    "        'accuracy': accuracy,\n",
    "        'macro_f1': f1_macro,\n",
    "        'macro_precision': precision_macro,\n",
    "        'macro_recall': recall_macro,\n",
    "        'precision_per_class': precision_per_class.tolist(),  # Per-class precision\n",
    "        'recall_per_class': recall_per_class.tolist(),        # Per-class recall\n",
    "        'f1_per_class': f1_per_class.tolist(),               # Per-class F1\n",
    "    }"
   ]
  },
  {
   "cell_type": "code",
   "execution_count": null,
   "metadata": {},
   "outputs": [],
   "source": [
    "training_args = TrainingArguments(\n",
    "    output_dir=\"../saved_models/results\",\n",
    "    num_train_epochs=3,\n",
    "    eval_strategy='steps',\n",
    "    eval_steps=500, \n",
    "    per_device_train_batch_size=16,\n",
    "    per_device_eval_batch_size=16,\n",
    "    learning_rate=2e-5,\n",
    "    warmup_steps=500,\n",
    "    weight_decay=0.01,\n",
    "    logging_dir=\"./logs\",\n",
    "    save_strategy=\"steps\",\n",
    "    metric_for_best_model='macro_f1',\n",
    "    save_total_limit=2,\n",
    "    load_best_model_at_end=True,\n",
    ")\n",
    "\n",
    "trainer = Trainer(\n",
    "    model=model,\n",
    "    args=training_args,\n",
    "    train_dataset=train_dataset, # Automatically shuffled\n",
    "    eval_dataset=val_dataset,\n",
    "    data_collator=data_collator,\n",
    "    compute_metrics=compute_metrics,\n",
    ")"
   ]
  },
  {
   "cell_type": "code",
   "execution_count": null,
   "metadata": {},
   "outputs": [
    {
     "data": {
      "text/html": [
       "\n",
       "    <div>\n",
       "      \n",
       "      <progress value='4491' max='4491' style='width:300px; height:20px; vertical-align: middle;'></progress>\n",
       "      [4491/4491 50:51, Epoch 3/3]\n",
       "    </div>\n",
       "    <table border=\"1\" class=\"dataframe\">\n",
       "  <thead>\n",
       " <tr style=\"text-align: left;\">\n",
       "      <th>Step</th>\n",
       "      <th>Training Loss</th>\n",
       "      <th>Validation Loss</th>\n",
       "      <th>Accuracy</th>\n",
       "      <th>Macro F1</th>\n",
       "      <th>Macro Precision</th>\n",
       "      <th>Macro Recall</th>\n",
       "      <th>Precision Per Class</th>\n",
       "      <th>Recall Per Class</th>\n",
       "      <th>F1 Per Class</th>\n",
       "    </tr>\n",
       "  </thead>\n",
       "  <tbody>\n",
       "    <tr>\n",
       "      <td>500</td>\n",
       "      <td>1.898700</td>\n",
       "      <td>1.333761</td>\n",
       "      <td>0.597144</td>\n",
       "      <td>0.380798</td>\n",
       "      <td>0.365864</td>\n",
       "      <td>0.448140</td>\n",
       "      <td>[0.5975692099932478, 0.898876404494382, 0.4540441176470588, 0.0, 0.0, 0.0, 0.0, 0.9814814814814815, 0.4488888888888889, 0.2777777777777778]</td>\n",
       "      <td>[0.9899328859060402, 0.5769230769230769, 0.7993527508090615, 0.0, 0.0, 0.0, 0.0, 1.0, 0.9901960784313726, 0.125]</td>\n",
       "      <td>[0.7452631578947368, 0.7027818448023426, 0.5791324736225087, 0.0, 0.0, 0.0, 0.0, 0.9906542056074766, 0.617737003058104, 0.1724137931034483]</td>\n",
       "    </tr>\n",
       "    <tr>\n",
       "      <td>1000</td>\n",
       "      <td>1.024600</td>\n",
       "      <td>0.767188</td>\n",
       "      <td>0.732807</td>\n",
       "      <td>0.606406</td>\n",
       "      <td>0.624530</td>\n",
       "      <td>0.639667</td>\n",
       "      <td>[0.7442455242966752, 0.9027777777777778, 0.49916805324459235, 0.8587360594795539, 0.0, 0.0, 0.5294117647058824, 1.0, 0.9456521739130435, 0.7653061224489796]</td>\n",
       "      <td>[0.9765100671140939, 0.625, 0.970873786407767, 0.9130434782608695, 0.0, 0.0, 0.12080536912751678, 1.0, 0.8529411764705882, 0.9375]</td>\n",
       "      <td>[0.8447024673439768, 0.7386363636363636, 0.6593406593406593, 0.8850574712643678, 0.0, 0.0, 0.19672131147540983, 1.0, 0.8969072164948454, 0.8426966292134831]</td>\n",
       "    </tr>\n",
       "    <tr>\n",
       "      <td>1500</td>\n",
       "      <td>0.733200</td>\n",
       "      <td>0.617872</td>\n",
       "      <td>0.769635</td>\n",
       "      <td>0.704819</td>\n",
       "      <td>0.715958</td>\n",
       "      <td>0.711061</td>\n",
       "      <td>[0.7530864197530864, 0.8885245901639345, 0.6515151515151515, 0.8695652173913043, 0.0, 0.631578947368421, 0.6213592233009708, 1.0, 0.8095238095238095, 0.9344262295081968]</td>\n",
       "      <td>[0.9552572706935123, 0.6514423076923077, 0.8349514563106796, 0.9486166007905138, 0.0, 0.5783132530120482, 0.42953020134228187, 1.0, 1.0, 0.7125]</td>\n",
       "      <td>[0.8422090729783037, 0.7517337031900139, 0.7319148936170212, 0.9073724007561437, 0.0, 0.6037735849056604, 0.5079365079365079, 1.0, 0.8947368421052632, 0.8085106382978723]</td>\n",
       "    </tr>\n",
       "    <tr>\n",
       "      <td>2000</td>\n",
       "      <td>0.609200</td>\n",
       "      <td>0.566875</td>\n",
       "      <td>0.780158</td>\n",
       "      <td>0.741681</td>\n",
       "      <td>0.740755</td>\n",
       "      <td>0.754513</td>\n",
       "      <td>[0.7461406518010292, 0.9487179487179487, 0.7212543554006968, 0.8618181818181818, 0.0, 0.6382978723404256, 0.55, 1.0, 0.9900990099009901, 0.9512195121951219]</td>\n",
       "      <td>[0.9731543624161074, 0.6225961538461539, 0.6699029126213593, 0.9367588932806324, 0.0, 0.7228915662650602, 0.6644295302013423, 1.0, 0.9803921568627451, 0.975]</td>\n",
       "      <td>[0.8446601941747572, 0.7518142235123367, 0.6946308724832215, 0.8977272727272727, 0.0, 0.6779661016949152, 0.601823708206687, 1.0, 0.9852216748768473, 0.9629629629629629]</td>\n",
       "    </tr>\n",
       "    <tr>\n",
       "      <td>2500</td>\n",
       "      <td>0.536000</td>\n",
       "      <td>0.524079</td>\n",
       "      <td>0.781285</td>\n",
       "      <td>0.746313</td>\n",
       "      <td>0.736766</td>\n",
       "      <td>0.761511</td>\n",
       "      <td>[0.7556357078449053, 0.8328267477203647, 0.7264150943396226, 0.8754716981132076, 0.0, 0.6403940886699507, 0.6041666666666666, 0.9906542056074766, 0.9902912621359223, 0.9518072289156626]</td>\n",
       "      <td>[0.9373601789709173, 0.6586538461538461, 0.7475728155339806, 0.9169960474308301, 0.0, 0.7831325301204819, 0.5838926174496645, 1.0, 1.0, 0.9875]</td>\n",
       "      <td>[0.836744882675986, 0.7355704697986577, 0.7368421052631579, 0.8957528957528957, 0.0, 0.7046070460704607, 0.5938566552901023, 0.9953051643192489, 0.9951219512195122, 0.9693251533742331]</td>\n",
       "    </tr>\n",
       "    <tr>\n",
       "      <td>3000</td>\n",
       "      <td>0.513100</td>\n",
       "      <td>0.502328</td>\n",
       "      <td>0.784292</td>\n",
       "      <td>0.750214</td>\n",
       "      <td>0.741231</td>\n",
       "      <td>0.766104</td>\n",
       "      <td>[0.7544483985765125, 0.8621794871794872, 0.7401315789473685, 0.8825757575757576, 0.0, 0.6363636363636364, 0.593939393939394, 1.0, 0.9902912621359223, 0.9523809523809523]</td>\n",
       "      <td>[0.9485458612975392, 0.6466346153846154, 0.7281553398058253, 0.9209486166007905, 0.0, 0.7590361445783133, 0.6577181208053692, 1.0, 1.0, 1.0]</td>\n",
       "      <td>[0.8404360753221011, 0.739010989010989, 0.734094616639478, 0.9013539651837524, 0.0, 0.6923076923076923, 0.6242038216560509, 1.0, 0.9951219512195122, 0.975609756097561]</td>\n",
       "    </tr>\n",
       "    <tr>\n",
       "      <td>3500</td>\n",
       "      <td>0.453600</td>\n",
       "      <td>0.499770</td>\n",
       "      <td>0.787298</td>\n",
       "      <td>0.751958</td>\n",
       "      <td>0.742717</td>\n",
       "      <td>0.767341</td>\n",
       "      <td>[0.7583108715184187, 0.827893175074184, 0.7797202797202797, 0.8700361010830325, 0.0, 0.6442307692307693, 0.581081081081081, 1.0, 0.9902912621359223, 0.975609756097561]</td>\n",
       "      <td>[0.9440715883668904, 0.6706730769230769, 0.7216828478964401, 0.9525691699604744, 0.0, 0.8072289156626506, 0.5771812080536913, 1.0, 1.0, 1.0]</td>\n",
       "      <td>[0.841056302939711, 0.7410358565737052, 0.7495798319327731, 0.909433962264151, 0.0, 0.7165775401069518, 0.5791245791245792, 1.0, 0.9951219512195122, 0.9876543209876543]</td>\n",
       "    </tr>\n",
       "    <tr>\n",
       "      <td>4000</td>\n",
       "      <td>0.458700</td>\n",
       "      <td>0.499814</td>\n",
       "      <td>0.786922</td>\n",
       "      <td>0.750873</td>\n",
       "      <td>0.744021</td>\n",
       "      <td>0.766607</td>\n",
       "      <td>[0.7539543057996485, 0.8673139158576052, 0.7678571428571429, 0.8782287822878229, 0.0, 0.6203703703703703, 0.6103896103896104, 1.0, 0.9902912621359223, 0.9518072289156626]</td>\n",
       "      <td>[0.959731543624161, 0.6442307692307693, 0.6957928802588996, 0.9407114624505929, 0.0, 0.8072289156626506, 0.6308724832214765, 1.0, 1.0, 0.9875]</td>\n",
       "      <td>[0.844488188976378, 0.7393103448275862, 0.7300509337860781, 0.9083969465648855, 0.0, 0.7015706806282722, 0.6204620462046204, 1.0, 0.9951219512195122, 0.9693251533742331]</td>\n",
       "    </tr>\n",
       "  </tbody>\n",
       "</table><p>"
      ],
      "text/plain": [
       "<IPython.core.display.HTML object>"
      ]
     },
     "metadata": {},
     "output_type": "display_data"
    },
    {
     "data": {
      "text/plain": [
       "TrainOutput(global_step=4491, training_loss=0.7420104287350743, metrics={'train_runtime': 3052.3433, 'train_samples_per_second': 23.538, 'train_steps_per_second': 1.471, 'total_flos': 8456543962795908.0, 'train_loss': 0.7420104287350743, 'epoch': 3.0})"
      ]
     },
     "execution_count": 16,
     "metadata": {},
     "output_type": "execute_result"
    }
   ],
   "source": [
    "trainer.train()"
   ]
  },
  {
   "cell_type": "markdown",
   "metadata": {},
   "source": [
    "# 3 - Evaluate"
   ]
  },
  {
   "cell_type": "code",
   "execution_count": null,
   "metadata": {},
   "outputs": [
    {
     "data": {
      "image/png": "[encoded data removed]",
      "text/plain": [
       "<Figure size 1600x1200 with 2 Axes>"
      ]
     },
     "metadata": {},
     "output_type": "display_data"
    },
    {
     "name": "stdout",
     "output_type": "stream",
     "text": [
      "Per-Class Performance Report:\n",
      "                           Class Precision    Recall  F1-Score  Support\n",
      "0                  IS_LOCATED_IN  0.758311  0.944072  0.841056      894\n",
      "1               HAS_CONTROL_OVER  0.827893  0.670673  0.741036      416\n",
      "2             IS_IN_CONTACT_WITH   0.77972  0.721683  0.749580      309\n",
      "3                    OPERATES_IN  0.870036  0.952569  0.909434      253\n",
      "4                     STARTED_IN       0.0       0.0  0.000000      186\n",
      "5                IS_AT_ODDS_WITH  0.644231  0.807229  0.716578      166\n",
      "6                     IS_PART_OF  0.581081  0.577181  0.579125      149\n",
      "7                     START_DATE       1.0       1.0  1.000000      106\n",
      "8                    GENDER_MALE  0.990291       1.0  0.995122      102\n",
      "9                   HAS_CATEGORY   0.97561       1.0  0.987654       80\n",
      "accuracy                       -         -         -  0.787298     2661\n",
      "macro avg                      -  0.742717  0.767341  0.751958     2661\n",
      "weighted avg                   -  0.737305  0.787298  0.756722     2661\n"
     ]
    }
   ],
   "source": [
    "def evaluate_per_class(model, dataloader, relation_types, device='cuda'):\n",
    "    model = model.to(device)\n",
    "    model.eval()\n",
    "    predictions, labels = [], []\n",
    "\n",
    "    # Process the dataset in batches\n",
    "    for batch in dataloader:\n",
    "        inputs = {\n",
    "            'input_ids': batch['input_ids'].to(device),\n",
    "            'attention_mask': batch['attention_mask'].to(device),\n",
    "            'labels': batch['labels'].to(device)\n",
    "        }\n",
    "        \n",
    "        with torch.no_grad():\n",
    "            outputs = model(**inputs)\n",
    "        logits = outputs.logits\n",
    "        predictions.extend(torch.argmax(logits, dim=-1).cpu().numpy())\n",
    "        labels.extend(inputs['labels'].cpu().numpy())\n",
    "\n",
    "    # Compute per-class metrics\n",
    "    precision, recall, f1, support = precision_recall_fscore_support(\n",
    "        labels, predictions, labels=list(range(len(relation_types))), average=None, zero_division=0\n",
    "    )\n",
    "    \n",
    "    accuracy = accuracy_score(labels, predictions)\n",
    "\n",
    "    macro_precision, macro_recall, macro_f1, _ = precision_recall_fscore_support(\n",
    "        labels, predictions, average='macro', zero_division=0\n",
    "    )\n",
    "    weighted_precision, weighted_recall, weighted_f1, _ = precision_recall_fscore_support(\n",
    "        labels, predictions, average='weighted', zero_division=0\n",
    "    )\n",
    "\n",
    "    report_df = pd.DataFrame({\n",
    "        'Class': relation_types,\n",
    "        'Precision': precision,\n",
    "        'Recall': recall,\n",
    "        'F1-Score': f1,\n",
    "        'Support': support\n",
    "    })\n",
    "\n",
    "    report_df.loc['accuracy'] = ['-', '-', '-', accuracy, np.sum(support)]\n",
    "    report_df.loc['macro avg'] = ['-', macro_precision, macro_recall, macro_f1, np.sum(support)]\n",
    "    report_df.loc['weighted avg'] = ['-', weighted_precision, weighted_recall, weighted_f1, np.sum(support)]\n",
    "\n",
    "    plt.figure(figsize=(16, 12))\n",
    "    cm = confusion_matrix(labels, predictions, labels=list(range(len(relation_types))))\n",
    "    sns.heatmap(cm, annot=True, fmt='d', cmap='Blues', xticklabels=relation_types, yticklabels=relation_types)\n",
    "    plt.xlabel('Predicted')\n",
    "    plt.ylabel('True')\n",
    "    plt.title('Confusion Matrix')\n",
    "    plt.show()\n",
    "\n",
    "    return report_df\n",
    "\n",
    "val_loader = DataLoader(\n",
    "    val_dataset,\n",
    "    batch_size=16,\n",
    "    shuffle=False,\n",
    "    collate_fn=data_collator,\n",
    ")\n",
    "\n",
    "report_df = evaluate_per_class(model, val_loader, top_10_relations)\n",
    "\n",
    "print(\"Per-Class Performance Report:\")\n",
    "print(report_df)"
   ]
  },
  {
   "cell_type": "code",
   "execution_count": 18,
   "metadata": {},
   "outputs": [
    {
     "data": {
      "text/plain": [
       "('../saved_models/CamRE_nREL10\\\\tokenizer_config.json',\n",
       " '../saved_models/CamRE_nREL10\\\\special_tokens_map.json',\n",
       " '../saved_models/CamRE_nREL10\\\\sentencepiece.bpe.model',\n",
       " '../saved_models/CamRE_nREL10\\\\added_tokens.json')"
      ]
     },
     "execution_count": 18,
     "metadata": {},
     "output_type": "execute_result"
    }
   ],
   "source": [
    "# Save the model\n",
    "model.save_pretrained(\"../saved_models/CamRE_nREL10\")\n",
    "tokenizer.save_pretrained(\"../saved_models/CamRE_nREL10\")"
   ]
  },
  {
   "cell_type": "markdown",
   "metadata": {},
   "source": [
    "Class Weights:\n",
    "Use class weights in the loss function to penalize misclassifications in minority classes more heavily.\n",
    "\n",
    "Oversampling/Downsampling:\n",
    "Oversample minority classes or downsample majority classes during training.\n",
    "\n",
    "Data Augmentation:\n",
    "Augment data for minority classes to balance the dataset."
   ]
  },
  {
   "cell_type": "markdown",
   "metadata": {},
   "source": [
    "#cross validation?"
   ]
  }
 ],
 "metadata": {
  "kernelspec": {
   "display_name": "env_textmine",
   "language": "python",
   "name": "python3"
  },
  "language_info": {
   "codemirror_mode": {
    "name": "ipython",
    "version": 3
   },
   "file_extension": ".py",
   "mimetype": "text/x-python",
   "name": "python",
   "nbconvert_exporter": "python",
   "pygments_lexer": "ipython3",
   "version": "3.12.0"
  }
 },
 "nbformat": 4,
 "nbformat_minor": 2
}
