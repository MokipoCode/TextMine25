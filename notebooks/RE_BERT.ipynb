{
 "cells": [
  {
   "cell_type": "code",
   "execution_count": 1,
   "metadata": {},
   "outputs": [],
   "source": [
    "import pandas as pd\n",
    "import json\n",
    "\n",
    "from transformers import CamembertTokenizer, CamembertForSequenceClassification, BertTokenizer, BertForSequenceClassification, Trainer, TrainingArguments\n",
    "from sklearn.metrics import accuracy_score, precision_recall_fscore_support\n",
    "from datasets import Dataset\n",
    "import numpy as np\n",
    "import evaluate\n",
    "import torch\n",
    "from torch.utils.data import DataLoader"
   ]
  },
  {
   "cell_type": "code",
   "execution_count": 2,
   "metadata": {},
   "outputs": [
    {
     "data": {
      "text/plain": [
       "'NVIDIA GeForce GTX 1080'"
      ]
     },
     "execution_count": 2,
     "metadata": {},
     "output_type": "execute_result"
    }
   ],
   "source": [
    "torch.cuda.get_device_name(0)\n",
    "#pip3 install torch torchvision torchaudio --index-url https://download.pytorch.org/whl/cu118"
   ]
  },
  {
   "cell_type": "code",
   "execution_count": 3,
   "metadata": {},
   "outputs": [
    {
     "data": {
      "text/html": [
       "<div>\n",
       "<style scoped>\n",
       "    .dataframe tbody tr th:only-of-type {\n",
       "        vertical-align: middle;\n",
       "    }\n",
       "\n",
       "    .dataframe tbody tr th {\n",
       "        vertical-align: top;\n",
       "    }\n",
       "\n",
       "    .dataframe thead th {\n",
       "        text-align: right;\n",
       "    }\n",
       "</style>\n",
       "<table border=\"1\" class=\"dataframe\">\n",
       "  <thead>\n",
       "    <tr style=\"text-align: right;\">\n",
       "      <th></th>\n",
       "      <th>text</th>\n",
       "      <th>entities</th>\n",
       "      <th>relations</th>\n",
       "    </tr>\n",
       "    <tr>\n",
       "      <th>id</th>\n",
       "      <th></th>\n",
       "      <th></th>\n",
       "      <th></th>\n",
       "    </tr>\n",
       "  </thead>\n",
       "  <tbody>\n",
       "    <tr>\n",
       "      <th>181</th>\n",
       "      <td>Anam Destresse, président de l'ONG \"Ma passion...</td>\n",
       "      <td>[{'id': 0, 'mentions': [{'value': 'accident', ...</td>\n",
       "      <td>[[0, STARTED_IN, 9], [7, IS_LOCATED_IN, 9], [5...</td>\n",
       "    </tr>\n",
       "    <tr>\n",
       "      <th>31669</th>\n",
       "      <td>À Paris, le 8 avril 2022, l'usine de déodorant...</td>\n",
       "      <td>[{'id': 0, 'mentions': [{'value': 'explosé', '...</td>\n",
       "      <td>[[9, IS_LOCATED_IN, 8], [11, OPERATES_IN, 8], ...</td>\n",
       "    </tr>\n",
       "    <tr>\n",
       "      <th>51470</th>\n",
       "      <td>En Espagne, dans une région agricole, une cont...</td>\n",
       "      <td>[{'id': 0, 'mentions': [{'value': 'contaminati...</td>\n",
       "      <td>[[7, IS_PART_OF, 8], [9, OPERATES_IN, 1], [0, ...</td>\n",
       "    </tr>\n",
       "    <tr>\n",
       "      <th>51332</th>\n",
       "      <td>Un important incendie a fait des ravages dans ...</td>\n",
       "      <td>[{'id': 0, 'mentions': [{'value': 'incendie', ...</td>\n",
       "      <td>[[12, IS_IN_CONTACT_WITH, 5], [0, IS_LOCATED_I...</td>\n",
       "    </tr>\n",
       "    <tr>\n",
       "      <th>1131</th>\n",
       "      <td>« Je coule » : onze heures après avoir envoyé ...</td>\n",
       "      <td>[{'id': 0, 'mentions': [{'value': 'renversé', ...</td>\n",
       "      <td>[[9, IS_LOCATED_IN, 2], [0, START_DATE, 17], [...</td>\n",
       "    </tr>\n",
       "  </tbody>\n",
       "</table>\n",
       "</div>"
      ],
      "text/plain": [
       "                                                    text  \\\n",
       "id                                                         \n",
       "181    Anam Destresse, président de l'ONG \"Ma passion...   \n",
       "31669  À Paris, le 8 avril 2022, l'usine de déodorant...   \n",
       "51470  En Espagne, dans une région agricole, une cont...   \n",
       "51332  Un important incendie a fait des ravages dans ...   \n",
       "1131   « Je coule » : onze heures après avoir envoyé ...   \n",
       "\n",
       "                                                entities  \\\n",
       "id                                                         \n",
       "181    [{'id': 0, 'mentions': [{'value': 'accident', ...   \n",
       "31669  [{'id': 0, 'mentions': [{'value': 'explosé', '...   \n",
       "51470  [{'id': 0, 'mentions': [{'value': 'contaminati...   \n",
       "51332  [{'id': 0, 'mentions': [{'value': 'incendie', ...   \n",
       "1131   [{'id': 0, 'mentions': [{'value': 'renversé', ...   \n",
       "\n",
       "                                               relations  \n",
       "id                                                        \n",
       "181    [[0, STARTED_IN, 9], [7, IS_LOCATED_IN, 9], [5...  \n",
       "31669  [[9, IS_LOCATED_IN, 8], [11, OPERATES_IN, 8], ...  \n",
       "51470  [[7, IS_PART_OF, 8], [9, OPERATES_IN, 1], [0, ...  \n",
       "51332  [[12, IS_IN_CONTACT_WITH, 5], [0, IS_LOCATED_I...  \n",
       "1131   [[9, IS_LOCATED_IN, 2], [0, START_DATE, 17], [...  "
      ]
     },
     "execution_count": 3,
     "metadata": {},
     "output_type": "execute_result"
    }
   ],
   "source": [
    "train_df = pd.read_csv(\"../data/train.csv\") # chargement des données d'entraînement\n",
    "train_df = train_df.set_index(\"id\")\n",
    "train_df.entities = train_df.entities.apply(json.loads) # parsing des entités\n",
    "train_df.relations = train_df.relations.apply(json.loads) # parsing des relations\n",
    "train_df.head()"
   ]
  },
  {
   "cell_type": "code",
   "execution_count": 4,
   "metadata": {},
   "outputs": [],
   "source": [
    "ONTOLOGY_RELATIONS = [\n",
    "    \"HAS_CONTROL_OVER\",\n",
    "    \"STARTED_IN\",\n",
    "    \"IS_LOCATED_IN\",\n",
    "    \"HAS_CATEGORY\",\n",
    "    \"IS_PART_OF\",\n",
    "    \"INJURED_NUMBER\",\n",
    "    \"IS_OF_NATIONALITY\",\n",
    "    \"OPERATES_IN\",\n",
    "    \"INITIATED\",\n",
    "    \"RESIDES_IN\",\n",
    "    \"HAS_CONSEQUENCE\",\n",
    "    \"IS_COOPERATING_WITH\",\n",
    "    \"IS_IN_CONTACT_WITH\",\n",
    "    \"IS_OF_SIZE\",\n",
    "    \"HAS_QUANTITY\",\n",
    "    \"HAS_FOR_LENGTH\",\n",
    "    \"IS_BORN_IN\",\n",
    "    \"WEIGHS\",\n",
    "    \"HAS_FOR_WIDTH\",\n",
    "    \"HAS_COLOR\",\n",
    "    \"HAS_LATITUDE\",\n",
    "    \"IS_REGISTERED_AS\",\n",
    "    \"IS_AT_ODDS_WITH\",\n",
    "    \"CREATED\",\n",
    "    \"HAS_FAMILY_RELATIONSHIP\",\n",
    "    \"DEATHS_NUMBER\",\n",
    "    \"HAS_FOR_HEIGHT\",\n",
    "    \"HAS_LONGITUDE\",\n",
    "    \"IS_DEAD_ON\",\n",
    "    \"START_DATE\",\n",
    "    \"END_DATE\",\n",
    "    \"WAS_CREATED_IN\",\n",
    "    \"IS_BORN_ON\",\n",
    "    \"WAS_DISSOLVED_IN\",\n",
    "    \"DIED_IN\",\n",
    "    \"GENDER_FEMALE\",\n",
    "    \"GENDER_MALE\",\n",
    "]"
   ]
  },
  {
   "cell_type": "code",
   "execution_count": 5,
   "metadata": {},
   "outputs": [
    {
     "name": "stdout",
     "output_type": "stream",
     "text": [
      "{\n",
      "  \"text\": \"Anam Destresse, pr\\u00e9sident de l'ONG \\\"Ma passion\\\", a \\u00e9t\\u00e9 bless\\u00e9 dans un accident. Le 30 juin 2022, un accident de circulation s'est produit entre une moto et un bus sur l'autoroute de Saint-Marin en Italie. Le bus, qui transportait 20 passagers, appartenait \\u00e0 l'ONG. Lors de l'accident, les panneaux de signalisation ont \\u00e9t\\u00e9 compl\\u00e8tement endommag\\u00e9s et le garde du corps a \\u00e9t\\u00e9 bless\\u00e9. Au total, deux passagers sont morts sur le coup. Anam Destresse, qui faisait partie des bless\\u00e9s, a \\u00e9t\\u00e9 transport\\u00e9 en h\\u00e9licopt\\u00e8re jusqu'\\u00e0 l'h\\u00f4pital. Le conducteur de la moto a \\u00e9t\\u00e9 retrouv\\u00e9 mort en dessous du bus. Il conduisait sans permis et en \\u00e9tat d'ivresse.\",\n",
      "  \"entity1\": \"ACCIDENT\",\n",
      "  \"entity2\": \"PLACE\",\n",
      "  \"relation\": \"STARTED_IN\"\n",
      "}\n"
     ]
    }
   ],
   "source": [
    "\n",
    "# Transformer les données en format d'entraînement\n",
    "# Vous devez transformer ces données en un format où chaque exemple d'entraînement contient une paire d'entités et le contexte, ainsi que la relation correspondante.\n",
    "\n",
    "training_data = []\n",
    "\n",
    "for index, entry in train_df.iterrows():\n",
    "    text = entry[\"text\"]\n",
    "    entities = entry[\"entities\"]\n",
    "    relations = entry[\"relations\"]\n",
    "\n",
    "    ent_type = {}\n",
    "    for x in entities :\n",
    "        ent_type[x[\"id\"]] = x[\"type\"]\n",
    "\n",
    "    for relation in relations:\n",
    "        entity1_idx = relation[0]\n",
    "        entity2_idx = relation[2]\n",
    "        relation_type = relation[1]\n",
    "\n",
    "        # entity1 = entities[entity1_idx][\"value\"]\n",
    "        # entity2 = entities[entity2_idx][\"value\"]\n",
    "        entity1 = ent_type[entity1_idx]\n",
    "        entity2 = ent_type[entity2_idx]\n",
    "\n",
    "        # Créer l'exemple d'entraînement\n",
    "        example = {\n",
    "            \"text\": text,\n",
    "            \"entity1\": entity1,\n",
    "            \"entity2\": entity2,\n",
    "            \"relation\": relation_type\n",
    "        }\n",
    "        training_data.append(example)\n",
    "\n",
    "# Afficher un exemple de données transformées\n",
    "print(json.dumps(training_data[0], indent=2))"
   ]
  },
  {
   "cell_type": "code",
   "execution_count": 6,
   "metadata": {},
   "outputs": [
    {
     "name": "stderr",
     "output_type": "stream",
     "text": [
      "Some weights of CamembertForSequenceClassification were not initialized from the model checkpoint at camembert-base and are newly initialized: ['classifier.dense.bias', 'classifier.dense.weight', 'classifier.out_proj.bias', 'classifier.out_proj.weight']\n",
      "You should probably TRAIN this model on a down-stream task to be able to use it for predictions and inference.\n"
     ]
    }
   ],
   "source": [
    "tokenizer = CamembertTokenizer.from_pretrained('camembert-base')\n",
    "relation_map = {relation: i for i, relation in enumerate(ONTOLOGY_RELATIONS)}\n",
    "\n",
    "# Fonction pour formater les entrées\n",
    "def format_input(example):\n",
    "    text = example['text']\n",
    "    entities = example['entities']\n",
    "    relations = example['relations']\n",
    "\n",
    "    formatted_inputs = []\n",
    "    labels = []\n",
    "\n",
    "    for relation in relations:\n",
    "        entity1_idx = relation[0]\n",
    "        entity2_idx = relation[2]\n",
    "        relation_type = relation[1]\n",
    "\n",
    "        entity1 = entities[entity1_idx]['type']\n",
    "        entity2 = entities[entity2_idx]['type']\n",
    "\n",
    "        # Créer l'exemple d'entraînement\n",
    "        input_text = f\"[CLS] {entity1} {relation_type} {entity2} [SEP] {text} [SEP]\"\n",
    "        inputs = tokenizer(input_text, truncation=True, padding='max_length', max_length=512)\n",
    "        inputs['labels'] = relation_map[relation_type]\n",
    "\n",
    "        formatted_inputs.append(inputs)\n",
    "        labels.append(relation_map[relation_type])\n",
    "\n",
    "    return formatted_inputs, labels\n",
    "\n",
    "# Appliquer la fonction de formatage aux datasets\n",
    "formatted_data = []\n",
    "labels = []\n",
    "\n",
    "for _, row in train_df.iterrows():\n",
    "    formatted_inputs, row_labels = format_input(row)\n",
    "    formatted_data.extend(formatted_inputs)\n",
    "    labels.extend(row_labels)\n",
    "\n",
    "# Convertir les données formatées en Dataset\n",
    "dataset = Dataset.from_dict({\n",
    "    'input_ids': [item['input_ids'] for item in formatted_data],\n",
    "    'attention_mask': [item['attention_mask'] for item in formatted_data],\n",
    "    'labels': labels\n",
    "})\n",
    "\n",
    "# Séparer les données en train et test\n",
    "dataset_dict = dataset.train_test_split(test_size=0.1)"
   ]
  },
  {
   "cell_type": "code",
   "execution_count": 7,
   "metadata": {},
   "outputs": [
    {
     "name": "stdout",
     "output_type": "stream",
     "text": [
      "{'HAS_CONTROL_OVER': 0, 'STARTED_IN': 1, 'IS_LOCATED_IN': 2, 'HAS_CATEGORY': 3, 'IS_PART_OF': 4, 'INJURED_NUMBER': 5, 'IS_OF_NATIONALITY': 6, 'OPERATES_IN': 7, 'INITIATED': 8, 'RESIDES_IN': 9, 'HAS_CONSEQUENCE': 10, 'IS_COOPERATING_WITH': 11, 'IS_IN_CONTACT_WITH': 12, 'IS_OF_SIZE': 13, 'HAS_QUANTITY': 14, 'HAS_FOR_LENGTH': 15, 'IS_BORN_IN': 16, 'WEIGHS': 17, 'HAS_FOR_WIDTH': 18, 'HAS_COLOR': 19, 'HAS_LATITUDE': 20, 'IS_REGISTERED_AS': 21, 'IS_AT_ODDS_WITH': 22, 'CREATED': 23, 'HAS_FAMILY_RELATIONSHIP': 24, 'DEATHS_NUMBER': 25, 'HAS_FOR_HEIGHT': 26, 'HAS_LONGITUDE': 27, 'IS_DEAD_ON': 28, 'START_DATE': 29, 'END_DATE': 30, 'WAS_CREATED_IN': 31, 'IS_BORN_ON': 32, 'WAS_DISSOLVED_IN': 33, 'DIED_IN': 34, 'GENDER_FEMALE': 35, 'GENDER_MALE': 36}\n"
     ]
    }
   ],
   "source": [
    "print(relation_map)"
   ]
  },
  {
   "cell_type": "code",
   "execution_count": null,
   "metadata": {},
   "outputs": [
    {
     "name": "stderr",
     "output_type": "stream",
     "text": [
      "Some weights of CamembertForSequenceClassification were not initialized from the model checkpoint at camembert-base and are newly initialized: ['classifier.dense.bias', 'classifier.dense.weight', 'classifier.out_proj.bias', 'classifier.out_proj.weight']\n",
      "You should probably TRAIN this model on a down-stream task to be able to use it for predictions and inference.\n"
     ]
    },
    {
     "data": {
      "application/vnd.jupyter.widget-view+json": {
       "model_id": "9a192185e2724e6191af4a0cbe2d21fe",
       "version_major": 2,
       "version_minor": 0
      },
      "text/plain": [
       "Map:   0%|          | 0/31469 [00:00<?, ? examples/s]"
      ]
     },
     "metadata": {},
     "output_type": "display_data"
    }
   ],
   "source": [
    "# # Charger le tokenizer et le modèle BERT\n",
    "# tokenizer = CamembertTokenizer.from_pretrained('camembert-base')\n",
    "# model = CamembertForSequenceClassification.from_pretrained('camembert-base', num_labels=len(ONTOLOGY_RELATIONS))\n",
    "# relation_map = {relation: i for i, relation in enumerate(ONTOLOGY_RELATIONS)}\n",
    "\n",
    "# # Fonction de prétraitement des données\n",
    "# def preprocess_function(examples):\n",
    "#     texts = examples['text']\n",
    "#     entity1 = examples['entity1']\n",
    "#     entity2 = examples['entity2']\n",
    "#     relations = examples['relation']\n",
    "\n",
    "#     # Tokenization\n",
    "#     inputs = tokenizer(texts, padding=\"max_length\", truncation=True, return_tensors=\"pt\")\n",
    "#     labels = [relation_map[r] for r in relations]\n",
    "\n",
    "#     inputs['labels'] = labels\n",
    "#     return inputs\n",
    "\n",
    "# # Créer un Dataset Hugging Face\n",
    "# # tmp = pd.DataFrame(training_data)\n",
    "# # tmp = tmp.iloc[:2500]\n",
    "# dataset = Dataset.from_pandas(pd.DataFrame(training_data))\n",
    "# tokenized_datasets = dataset.map(preprocess_function, batched=True)\n",
    "# tokenized_datasets = tokenized_datasets.train_test_split(test_size=0.1)"
   ]
  },
  {
   "cell_type": "code",
   "execution_count": 8,
   "metadata": {},
   "outputs": [
    {
     "data": {
      "text/plain": [
       "31469"
      ]
     },
     "execution_count": 8,
     "metadata": {},
     "output_type": "execute_result"
    }
   ],
   "source": [
    "len(training_data)"
   ]
  },
  {
   "cell_type": "code",
   "execution_count": 11,
   "metadata": {},
   "outputs": [
    {
     "data": {
      "text/plain": [
       "DatasetDict({\n",
       "    train: Dataset({\n",
       "        features: ['input_ids', 'attention_mask', 'labels'],\n",
       "        num_rows: 28322\n",
       "    })\n",
       "    test: Dataset({\n",
       "        features: ['input_ids', 'attention_mask', 'labels'],\n",
       "        num_rows: 3147\n",
       "    })\n",
       "})"
      ]
     },
     "execution_count": 11,
     "metadata": {},
     "output_type": "execute_result"
    }
   ],
   "source": [
    "dataset_dict"
   ]
  },
  {
   "cell_type": "code",
   "execution_count": null,
   "metadata": {},
   "outputs": [],
   "source": [
    "# from datasets import DatasetDict\n",
    "\n",
    "# # Vérifier les types de données\n",
    "# for feature in [\"input_ids\", \"attention_mask\"]:\n",
    "#     assert all(isinstance(example[feature], list) for example in tokenized_datasets[\"train\"]), f\"La colonne {feature} doit contenir des listes.\"\n",
    "\n",
    "# # Vérifier les dimensions\n",
    "# for example in tokenized_datasets[\"train\"]:\n",
    "#     assert len(example[\"input_ids\"]) == len(example[\"attention_mask\"]), \"Les dimensions de input_ids et attention_mask doivent être les mêmes.\"\n",
    "#     assert isinstance(example[\"labels\"], (int, list)), \"Les labels doivent être des entiers ou des listes d'entiers.\"\n",
    "\n",
    "# # Vérifier les valeurs\n",
    "# for example in tokenized_datasets[\"train\"]:\n",
    "#     assert all(isinstance(id, int) and id >= 0 for id in example[\"input_ids\"]), \"Les input_ids doivent être des entiers non négatifs.\"\n",
    "#     assert all(isinstance(mask, int) and mask in [0, 1] for mask in example[\"attention_mask\"]), \"Les attention_mask doivent contenir des 0 et des 1.\"\n",
    "#     if isinstance(example[\"labels\"], int):\n",
    "#         assert example[\"labels\"] >= 0, \"Les labels doivent être des entiers non négatifs.\"\n",
    "#     else:\n",
    "#         assert all(isinstance(label, int) and label >= 0 for label in example[\"labels\"]), \"Les labels doivent être des entiers non négatifs.\"\n",
    "\n",
    "# print(\"Le dataset est bien formaté pour être utilisé par BERT.\")\n"
   ]
  },
  {
   "cell_type": "code",
   "execution_count": 12,
   "metadata": {},
   "outputs": [
    {
     "name": "stdout",
     "output_type": "stream",
     "text": [
      "Utilisation de l'appareil : NVIDIA GeForce GTX 1080\n"
     ]
    }
   ],
   "source": [
    "print(f\"Utilisation de l'appareil : {torch.cuda.get_device_name(0)}\")"
   ]
  },
  {
   "cell_type": "code",
   "execution_count": null,
   "metadata": {},
   "outputs": [],
   "source": [
    "model = CamembertForSequenceClassification.from_pretrained('camembert-base', num_labels=len(ONTOLOGY_RELATIONS))"
   ]
  },
  {
   "cell_type": "code",
   "execution_count": null,
   "metadata": {},
   "outputs": [
    {
     "data": {
      "text/html": [
       "\n",
       "    <div>\n",
       "      \n",
       "      <progress value='3148' max='3148' style='width:300px; height:20px; vertical-align: middle;'></progress>\n",
       "      [3148/3148 1:45:04, Epoch 2/2]\n",
       "    </div>\n",
       "    <table border=\"1\" class=\"dataframe\">\n",
       "  <thead>\n",
       " <tr style=\"text-align: left;\">\n",
       "      <th>Step</th>\n",
       "      <th>Training Loss</th>\n",
       "      <th>Validation Loss</th>\n",
       "      <th>Accuracy</th>\n",
       "      <th>F1</th>\n",
       "      <th>Precision</th>\n",
       "      <th>Recall</th>\n",
       "    </tr>\n",
       "  </thead>\n",
       "  <tbody>\n",
       "    <tr>\n",
       "      <td>1000</td>\n",
       "      <td>2.625300</td>\n",
       "      <td>2.504645</td>\n",
       "      <td>0.290753</td>\n",
       "      <td>0.130989</td>\n",
       "      <td>0.084537</td>\n",
       "      <td>0.290753</td>\n",
       "    </tr>\n",
       "    <tr>\n",
       "      <td>2000</td>\n",
       "      <td>2.489800</td>\n",
       "      <td>2.465911</td>\n",
       "      <td>0.294725</td>\n",
       "      <td>0.141953</td>\n",
       "      <td>0.098405</td>\n",
       "      <td>0.294725</td>\n",
       "    </tr>\n",
       "    <tr>\n",
       "      <td>3000</td>\n",
       "      <td>2.456500</td>\n",
       "      <td>2.450470</td>\n",
       "      <td>0.294725</td>\n",
       "      <td>0.145345</td>\n",
       "      <td>0.129178</td>\n",
       "      <td>0.294725</td>\n",
       "    </tr>\n",
       "  </tbody>\n",
       "</table><p>"
      ],
      "text/plain": [
       "<IPython.core.display.HTML object>"
      ]
     },
     "metadata": {},
     "output_type": "display_data"
    },
    {
     "name": "stderr",
     "output_type": "stream",
     "text": [
      "c:\\Users\\thebo\\Desktop\\TextMine25\\env_textmine\\Lib\\site-packages\\sklearn\\metrics\\_classification.py:1565: UndefinedMetricWarning: Precision is ill-defined and being set to 0.0 in labels with no predicted samples. Use `zero_division` parameter to control this behavior.\n",
      "  _warn_prf(average, modifier, f\"{metric.capitalize()} is\", len(result))\n",
      "c:\\Users\\thebo\\Desktop\\TextMine25\\env_textmine\\Lib\\site-packages\\sklearn\\metrics\\_classification.py:1565: UndefinedMetricWarning: Precision is ill-defined and being set to 0.0 in labels with no predicted samples. Use `zero_division` parameter to control this behavior.\n",
      "  _warn_prf(average, modifier, f\"{metric.capitalize()} is\", len(result))\n",
      "c:\\Users\\thebo\\Desktop\\TextMine25\\env_textmine\\Lib\\site-packages\\sklearn\\metrics\\_classification.py:1565: UndefinedMetricWarning: Precision is ill-defined and being set to 0.0 in labels with no predicted samples. Use `zero_division` parameter to control this behavior.\n",
      "  _warn_prf(average, modifier, f\"{metric.capitalize()} is\", len(result))\n"
     ]
    }
   ],
   "source": [
    "# Définir les arguments d'entraînement\n",
    "training_args = TrainingArguments(\n",
    "    output_dir='../results',\n",
    "    eval_strategy=\"steps\",\n",
    "    evaluation_steps=500,\n",
    "    learning_rate=2e-5,\n",
    "    per_device_train_batch_size=16,\n",
    "    per_device_eval_batch_size=16,\n",
    "    num_train_epochs=3,\n",
    "    weight_decay=0.01,\n",
    "    logging_dir='../logs',\n",
    "    logging_steps=100,\n",
    "    report_to=\"none\"\n",
    ")\n",
    "\n",
    "def compute_metrics(eval_pred):\n",
    "    logits, labels = eval_pred\n",
    "    predictions = np.argmax(logits, axis=-1)\n",
    "    accuracy = accuracy_score(labels, predictions)\n",
    "    precision, recall, f1, _ = precision_recall_fscore_support(labels, predictions, average='weighted')\n",
    "    return {\n",
    "        'accuracy': accuracy,\n",
    "        'f1': f1,\n",
    "        'precision': precision,\n",
    "        'recall': recall\n",
    "    }\n",
    "\n",
    "# Initialiser le Trainer\n",
    "trainer = Trainer(\n",
    "    model=model,\n",
    "    args=training_args,\n",
    "    train_dataset=tokenized_datasets[\"train\"],\n",
    "    eval_dataset=tokenized_datasets[\"test\"],\n",
    "    compute_metrics=compute_metrics\n",
    ")\n",
    "\n",
    "# Entraîner le modèle\n",
    "train_result = trainer.train()\n"
   ]
  },
  {
   "cell_type": "code",
   "execution_count": 19,
   "metadata": {},
   "outputs": [
    {
     "name": "stdout",
     "output_type": "stream",
     "text": [
      "***** train metrics *****\n",
      "  epoch                    =        2.0\n",
      "  total_flos               = 12341704GF\n",
      "  train_loss               =     2.5207\n",
      "  train_runtime            = 1:45:06.36\n",
      "  train_samples            =      25175\n",
      "  train_samples_per_second =      7.984\n",
      "  train_steps_per_second   =      0.499\n",
      "***** eval metrics *****\n",
      "  epoch                   =        2.0\n",
      "  eval_accuracy           =     0.2928\n",
      "  eval_f1                 =     0.1453\n",
      "  eval_loss               =     2.4496\n",
      "  eval_precision          =     0.1283\n",
      "  eval_recall             =     0.2928\n",
      "  eval_runtime            = 0:04:13.77\n",
      "  eval_samples            =       6294\n",
      "  eval_samples_per_second =     24.802\n",
      "  eval_steps_per_second   =      1.553\n"
     ]
    },
    {
     "name": "stderr",
     "output_type": "stream",
     "text": [
      "c:\\Users\\thebo\\Desktop\\TextMine25\\env_textmine\\Lib\\site-packages\\sklearn\\metrics\\_classification.py:1565: UndefinedMetricWarning: Precision is ill-defined and being set to 0.0 in labels with no predicted samples. Use `zero_division` parameter to control this behavior.\n",
      "  _warn_prf(average, modifier, f\"{metric.capitalize()} is\", len(result))\n"
     ]
    }
   ],
   "source": [
    "# Compute train results\n",
    "metrics = train_result.metrics\n",
    "max_train_samples = len(tokenized_datasets[\"train\"])\n",
    "metrics[\"train_samples\"] = min(max_train_samples, len(tokenized_datasets[\"train\"]))\n",
    "\n",
    "# Save train results\n",
    "trainer.log_metrics(\"train\", metrics)\n",
    "trainer.save_metrics(\"train\", metrics)\n",
    "\n",
    "# Compute evaluation results\n",
    "metrics = trainer.evaluate()\n",
    "max_val_samples = len(tokenized_datasets[\"test\"])\n",
    "metrics[\"eval_samples\"] = min(max_val_samples, len(tokenized_datasets[\"test\"]))\n",
    "\n",
    "# Save evaluation results\n",
    "trainer.log_metrics(\"eval\", metrics)\n",
    "trainer.save_metrics(\"eval\", metrics)"
   ]
  },
  {
   "cell_type": "code",
   "execution_count": null,
   "metadata": {},
   "outputs": [
    {
     "data": {
      "image/png": "[encoded data removed]",
      "text/plain": [
       "<Figure size 640x480 with 2 Axes>"
      ]
     },
     "metadata": {},
     "output_type": "display_data"
    },
    {
     "name": "stdout",
     "output_type": "stream",
     "text": [
      "Rapport par classe :\n",
      "                      Class  Precision    Recall  F1-Score  Support\n",
      "0          HAS_CONTROL_OVER   0.000000  0.000000  0.000000      476\n",
      "1                STARTED_IN   0.000000  0.000000  0.000000      177\n",
      "2             IS_LOCATED_IN   0.000000  0.000000  0.000000      890\n",
      "3              HAS_CATEGORY   0.000000  0.000000  0.000000      101\n",
      "4                IS_PART_OF   0.000000  0.000000  0.000000      140\n",
      "5            INJURED_NUMBER   0.000000  0.000000  0.000000        6\n",
      "6         IS_OF_NATIONALITY   0.000000  0.000000  0.000000       18\n",
      "7               OPERATES_IN   0.000000  0.000000  0.000000      249\n",
      "8                 INITIATED   0.000000  0.000000  0.000000       48\n",
      "9                RESIDES_IN   0.000000  0.000000  0.000000       26\n",
      "10          HAS_CONSEQUENCE   0.000000  0.000000  0.000000       84\n",
      "11      IS_COOPERATING_WITH   0.000000  0.000000  0.000000       35\n",
      "12       IS_IN_CONTACT_WITH   0.000000  0.000000  0.000000      292\n",
      "13               IS_OF_SIZE   0.000000  0.000000  0.000000       46\n",
      "14             HAS_QUANTITY   0.000000  0.000000  0.000000       16\n",
      "15           HAS_FOR_LENGTH   0.000000  0.000000  0.000000        2\n",
      "16               IS_BORN_IN   0.000723  0.250000  0.001442        4\n",
      "17                   WEIGHS   0.000000  0.000000  0.000000        4\n",
      "18            HAS_FOR_WIDTH   0.000000  0.000000  0.000000        0\n",
      "19                HAS_COLOR   0.000000  0.000000  0.000000        4\n",
      "20             HAS_LATITUDE   0.000000  0.000000  0.000000        0\n",
      "21         IS_REGISTERED_AS   0.000000  0.000000  0.000000        4\n",
      "22          IS_AT_ODDS_WITH   0.000000  0.000000  0.000000      134\n",
      "23                  CREATED   0.000000  0.000000  0.000000       13\n",
      "24  HAS_FAMILY_RELATIONSHIP   0.009703  0.772727  0.019166       22\n",
      "25            DEATHS_NUMBER   0.000000  0.000000  0.000000        8\n",
      "26           HAS_FOR_HEIGHT   0.000000  0.000000  0.000000        2\n",
      "27            HAS_LONGITUDE   0.000000  0.000000  0.000000        0\n",
      "28               IS_DEAD_ON   0.000000  0.000000  0.000000        9\n",
      "29               START_DATE   0.000000  0.000000  0.000000      106\n",
      "30                 END_DATE   0.000000  0.000000  0.000000       98\n",
      "31           WAS_CREATED_IN   0.000000  0.000000  0.000000        2\n",
      "32               IS_BORN_ON   0.000000  0.000000  0.000000        3\n",
      "33         WAS_DISSOLVED_IN   0.000000  0.000000  0.000000        1\n",
      "34                  DIED_IN   0.000000  0.000000  0.000000        5\n",
      "35            GENDER_FEMALE   0.000000  0.000000  0.000000       41\n",
      "36              GENDER_MALE   0.166667  0.024691  0.043011       81\n"
     ]
    }
   ],
   "source": [
    "def evaluate_per_class(model, dataset, relation_map):\n",
    "    model = model.to(device)\n",
    "    model.eval()\n",
    "    predictions, labels = [], []\n",
    "\n",
    "    # Process the dataset in batches\n",
    "    batch_size = 16\n",
    "    for i in range(0, len(dataset), batch_size):\n",
    "        batch = dataset.select(range(i, min(i + batch_size, len(dataset))))\n",
    "\n",
    "        inputs = {\n",
    "            'input_ids': torch.tensor(batch['input_ids']).to(device),\n",
    "            'attention_mask': torch.tensor(batch['attention_mask']).to(device),\n",
    "            'labels': torch.tensor(batch['labels']).to(device)\n",
    "        }\n",
    "        \n",
    "        with torch.no_grad():\n",
    "            outputs = model(**inputs)\n",
    "        logits = outputs.logits\n",
    "        predictions.extend(torch.argmax(logits, dim=-1).cpu().numpy())\n",
    "        labels.extend(inputs['labels'].cpu().numpy())\n",
    "\n",
    "    precision, recall, f1, support = precision_recall_fscore_support(labels, predictions, labels=list(relation_map.values()), average=None, zero_division=0)\n",
    "\n",
    "    # Create a DataFrame for better readability\n",
    "    report_df = pd.DataFrame({\n",
    "        'Class': list(relation_map.keys()),\n",
    "        'Precision': precision,\n",
    "        'Recall': recall,\n",
    "        'F1-Score': f1,\n",
    "        'Support': support\n",
    "    })\n",
    "\n",
    "\n",
    "     # Generate confusion matrix\n",
    "    plt.figure(figsize=(20, 8))\n",
    "    cm = confusion_matrix(labels, predictions, labels=list(relation_map.values()))\n",
    "    disp = ConfusionMatrixDisplay(confusion_matrix=cm, display_labels=list(relation_map.keys()))\n",
    "    disp.plot(cmap=plt.cm.Blues)\n",
    "    plt.show()\n",
    "\n",
    "    return report_df\n",
    "\n",
    "\n",
    "report_df = evaluate_per_class(model, tokenized_datasets[\"test\"], relation_map)\n",
    "print(\"Rapport par classe :\")\n",
    "print(report_df)"
   ]
  },
  {
   "cell_type": "markdown",
   "metadata": {},
   "source": [
    "`Les résultats sont mauvais... J'entraine sur les types pour chaque EN, peut-être que je devrais utiliser directement le mot (ou GN) de l'EN`"
   ]
  },
  {
   "cell_type": "markdown",
   "metadata": {},
   "source": [
    "data = [\n",
    "    {\n",
    "        \"text\": \"[E1]Anam Destresse[/E1] was injured in an accident involving a [E2]bus[/E2].\",\n",
    "        \"label\": \"IS_LOCATED_IN\"\n",
    "    },\n",
    "    {\n",
    "        \"text\": \"The [E1]bus[/E1] was traveling on the [E2]highway[/E2].\",\n",
    "        \"label\": \"STARTED_IN\"\n",
    "    },\n",
    "    # Add more examples...\n",
    "]"
   ]
  }
 ],
 "metadata": {
  "kernelspec": {
   "display_name": "env_textmine",
   "language": "python",
   "name": "python3"
  },
  "language_info": {
   "codemirror_mode": {
    "name": "ipython",
    "version": 3
   },
   "file_extension": ".py",
   "mimetype": "text/x-python",
   "name": "python",
   "nbconvert_exporter": "python",
   "pygments_lexer": "ipython3",
   "version": "3.12.8"
  }
 },
 "nbformat": 4,
 "nbformat_minor": 2
}
